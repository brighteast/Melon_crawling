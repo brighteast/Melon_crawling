{
 "cells": [
  {
   "cell_type": "code",
   "execution_count": null,
   "id": "6cb9f4d1",
   "metadata": {},
   "outputs": [],
   "source": [
    "# 멜론 일간 차트를 장르별로 크롤링 후 파일로 보낸다."
   ]
  },
  {
   "cell_type": "code",
   "execution_count": 109,
   "id": "d09aade9",
   "metadata": {},
   "outputs": [],
   "source": [
    "import lxml.html\n",
    "import requests\n",
    "import os\n",
    "from time import sleep\n",
    "import random"
   ]
  },
  {
   "cell_type": "code",
   "execution_count": 110,
   "id": "59fee521",
   "metadata": {},
   "outputs": [],
   "source": [
    "from selenium.webdriver import Chrome"
   ]
  },
  {
   "cell_type": "code",
   "execution_count": 111,
   "id": "625eca87",
   "metadata": {},
   "outputs": [
    {
     "name": "stdout",
     "output_type": "stream",
     "text": [
      "일간 차트 장르 선택(종합, 한국대중음악, 해외POP음악, 그외인기장르):그외인기장르\n"
     ]
    }
   ],
   "source": [
    "genre = input(\"일간 차트 장르 선택(종합, 한국대중음악, 해외POP음악, 그외인기장르):\")\n",
    "if (genre == \"종합\" or genre == \"한국대중음악\" or genre == \"해외POP음악\" or genre == \"그외인기장르\"):\n",
    "    url = \"https://www.melon.com/chart/day/index.htm\""
   ]
  },
  {
   "cell_type": "code",
   "execution_count": 112,
   "id": "abe229ba",
   "metadata": {},
   "outputs": [],
   "source": [
    "def crawling_charts(url):\n",
    "    Rank = []\n",
    "    browser = Chrome()\n",
    "    browser.get(url)\n",
    "    day = browser.find_element_by_class_name('year').text\n",
    "    Rank.append(day)\n",
    "    if(genre == \"종합\"):\n",
    "        for i in range(0,3):\n",
    "            sleep(random.uniform(2,4))\n",
    "            browser.find_elements_by_class_name('link_tab')[i].click()            \n",
    "            genre_song = browser.find_element_by_class_name('hour').text\n",
    "            Rank.append(genre_song)\n",
    "            titles=browser.find_elements_by_class_name('ellipsis.rank01')\n",
    "            artists=browser.find_elements_by_class_name('ellipsis.rank02')\n",
    "            for i in range(len(titles)):\n",
    "                Rank.append(\"{0}위 {1} - {2}\".format(i+1, titles[i].text.strip().split('\\n')[0], artists[i].text.strip().split('\\n')[0]))    \n",
    "            Rank.append('\\n')\n",
    "    elif(genre == \"한국대중음악\"):\n",
    "        for i in range(3, 11):\n",
    "            sleep(random.uniform(2,4))\n",
    "            browser.find_elements_by_class_name('link_tab')[i].click()\n",
    "            genre_song = browser.find_element_by_class_name('hour').text\n",
    "            Rank.append(genre_song)\n",
    "            titles=browser.find_elements_by_class_name('ellipsis.rank01')\n",
    "            artists=browser.find_elements_by_class_name('ellipsis.rank02')\n",
    "            for i in range(len(titles)):\n",
    "                Rank.append(\"{0}위 {1} - {2}\".format(i+1, titles[i].text.strip().split('\\n')[0], artists[i].text.strip().split('\\n')[0]))    \n",
    "            Rank.append('\\n')\n",
    "    elif(genre == \"해외POP음악\"):\n",
    "         for i in range(11, 17):\n",
    "            sleep(random.uniform(2,4))\n",
    "            browser.find_elements_by_class_name('link_tab')[i].click()\n",
    "            genre_song = browser.find_element_by_class_name('hour').text\n",
    "            Rank.append(genre_song)\n",
    "            titles=browser.find_elements_by_class_name('ellipsis.rank01')\n",
    "            artists=browser.find_elements_by_class_name('ellipsis.rank02')\n",
    "            for i in range(len(titles)):\n",
    "                Rank.append(\"{0}위 {1} - {2}\".format(i+1, titles[i].text.strip().split('\\n')[0], artists[i].text.strip().split('\\n')[0]))    \n",
    "            Rank.append('\\n')\n",
    "    elif(genre == \"그외인기장르\"):\n",
    "          for i in range(17, 26):\n",
    "            sleep(random.uniform(2,4))\n",
    "            browser.find_elements_by_class_name('link_tab')[i].click()\n",
    "            genre_song = browser.find_element_by_class_name('hour').text\n",
    "            Rank.append(genre_song)\n",
    "            titles=browser.find_elements_by_class_name('ellipsis.rank01')\n",
    "            artists=browser.find_elements_by_class_name('ellipsis.rank02')\n",
    "            for i in range(len(titles)):\n",
    "                Rank.append(\"{0}위 {1} - {2}\".format(i+1, titles[i].text.strip().split('\\n')[0], artists[i].text.strip().split('\\n')[0]))  \n",
    "            Rank.append('\\n')    \n",
    "    return Rank"
   ]
  },
  {
   "cell_type": "code",
   "execution_count": 98,
   "id": "ddc37d56",
   "metadata": {},
   "outputs": [],
   "source": [
    "browser = Chrome()\n",
    "browser.get(url)\n",
    "browser.find_elements_by_class_name('link_tab')[25].click()"
   ]
  },
  {
   "cell_type": "code",
   "execution_count": 113,
   "id": "1141f4bc",
   "metadata": {
    "scrolled": true
   },
   "outputs": [],
   "source": [
    "result = crawling_charts(url)\n",
    "file = open(\"MelonTop100_Genre.txt\",'w',-1, 'utf-8')\n",
    "for i in range(len(result)):\n",
    "    file.write(result[i] + '\\n')\n",
    "file.close()"
   ]
  },
  {
   "cell_type": "code",
   "execution_count": null,
   "id": "05b983bb",
   "metadata": {},
   "outputs": [],
   "source": []
  }
 ],
 "metadata": {
  "kernelspec": {
   "display_name": "Python 3 (ipykernel)",
   "language": "python",
   "name": "python3"
  },
  "language_info": {
   "codemirror_mode": {
    "name": "ipython",
    "version": 3
   },
   "file_extension": ".py",
   "mimetype": "text/x-python",
   "name": "python",
   "nbconvert_exporter": "python",
   "pygments_lexer": "ipython3",
   "version": "3.8.8"
  }
 },
 "nbformat": 4,
 "nbformat_minor": 5
}
